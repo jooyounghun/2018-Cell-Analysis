{
 "cells": [
  {
   "cell_type": "code",
   "execution_count": 1,
   "metadata": {},
   "outputs": [
    {
     "name": "stdout",
     "output_type": "stream",
     "text": [
      "<?xml version=\"1.0\" encoding=\"UTF-8\"?>\r\n",
      "<?xml-stylesheet type=\"text/xsl\" href=\"configuration.xsl\"?>\r\n",
      "<!--\r\n",
      "  Licensed under the Apache License, Version 2.0 (the \"License\");\r\n",
      "  you may not use this file except in compliance with the License.\r\n",
      "  You may obtain a copy of the License at\r\n",
      "\r\n",
      "    http://www.apache.org/licenses/LICENSE-2.0\r\n",
      "\r\n",
      "  Unless required by applicable law or agreed to in writing, software\r\n",
      "  distributed under the License is distributed on an \"AS IS\" BASIS,\r\n",
      "  WITHOUT WARRANTIES OR CONDITIONS OF ANY KIND, either express or implied.\r\n",
      "  See the License for the specific language governing permissions and\r\n",
      "  limitations under the License. See accompanying LICENSE file.\r\n",
      "-->\r\n",
      "\r\n",
      "<!-- Put site-specific property overrides in this file. -->\r\n",
      "<configuration>\r\n",
      "<property>\r\n",
      "<name>dfs.replication</name>\r\n",
      "<value>2</value>\r\n",
      "</property>\r\n",
      "<property>\r\n",
      "<name>dfs.permissions</name>\r\n",
      "<value>false</value>\r\n",
      "</property>\r\n",
      "<property>\r\n",
      "<name>dfs.namenode.name.dir</name>\r\n",
      "<value>/home/project/hadoop-2.7.5/namenode</value>\r\n",
      "</property>\r\n",
      "<property>\r\n",
      "<name>dfs.datanode.data.dir</name>\r\n",
      "<value>/home/project/hadoop-2.7.5/datanode</value>\r\n",
      "</property>\r\n",
      "</configuration>\r\n"
     ]
    }
   ],
   "source": [
    "! cat ../hadoop/etc/hadoop/hdfs-site.xml"
   ]
  },
  {
   "cell_type": "code",
   "execution_count": 2,
   "metadata": {},
   "outputs": [
    {
     "name": "stdout",
     "output_type": "stream",
     "text": [
      "18/05/18 15:40:54 INFO fs.TrashPolicyDefault: Namenode trash configuration: Deletion interval = 0 minutes, Emptier interval = 0 minutes.\n",
      "Deleted /user/project/SalesLTAddress.txt\n",
      "18/05/18 15:40:54 INFO fs.TrashPolicyDefault: Namenode trash configuration: Deletion interval = 0 minutes, Emptier interval = 0 minutes.\n",
      "Deleted /user/project/SalesLTCustomer.txt\n",
      "18/05/18 15:40:54 INFO fs.TrashPolicyDefault: Namenode trash configuration: Deletion interval = 0 minutes, Emptier interval = 0 minutes.\n",
      "Deleted /user/project/SalesLTCustomerAddress.txt\n",
      "18/05/18 15:40:54 INFO fs.TrashPolicyDefault: Namenode trash configuration: Deletion interval = 0 minutes, Emptier interval = 0 minutes.\n",
      "Deleted /user/project/SalesLTProduct.txt\n",
      "18/05/18 15:40:54 INFO fs.TrashPolicyDefault: Namenode trash configuration: Deletion interval = 0 minutes, Emptier interval = 0 minutes.\n",
      "Deleted /user/project/SalesLTProductCategory.txt\n",
      "18/05/18 15:40:54 INFO fs.TrashPolicyDefault: Namenode trash configuration: Deletion interval = 0 minutes, Emptier interval = 0 minutes.\n",
      "Deleted /user/project/SalesLTProductDescription.txt\n",
      "18/05/18 15:40:54 INFO fs.TrashPolicyDefault: Namenode trash configuration: Deletion interval = 0 minutes, Emptier interval = 0 minutes.\n",
      "Deleted /user/project/SalesLTProductModel.txt\n",
      "18/05/18 15:40:54 INFO fs.TrashPolicyDefault: Namenode trash configuration: Deletion interval = 0 minutes, Emptier interval = 0 minutes.\n",
      "Deleted /user/project/SalesLTProductModelProductDescription.txt\n",
      "18/05/18 15:40:54 INFO fs.TrashPolicyDefault: Namenode trash configuration: Deletion interval = 0 minutes, Emptier interval = 0 minutes.\n",
      "Deleted /user/project/SalesLTSalesOrderDetail.txt\n",
      "18/05/18 15:40:54 INFO fs.TrashPolicyDefault: Namenode trash configuration: Deletion interval = 0 minutes, Emptier interval = 0 minutes.\n",
      "Deleted /user/project/SalesLTSalesOrderHeader.txt\n"
     ]
    }
   ],
   "source": [
    "# delect files\n",
    "! ../hadoop/bin/hdfs dfs -rm /user/project/*"
   ]
  },
  {
   "cell_type": "code",
   "execution_count": 3,
   "metadata": {},
   "outputs": [],
   "source": [
    "# check delect\n",
    "! ../hadoop/bin/hdfs dfs -ls /user/project/"
   ]
  },
  {
   "cell_type": "code",
   "execution_count": 4,
   "metadata": {},
   "outputs": [
    {
     "name": "stdout",
     "output_type": "stream",
     "text": [
      "18/05/18 15:40:59 WARN hdfs.DFSClient: Caught exception \r\n",
      "java.lang.InterruptedException\r\n",
      "\tat java.lang.Object.wait(Native Method)\r\n",
      "\tat java.lang.Thread.join(Thread.java:1252)\r\n",
      "\tat java.lang.Thread.join(Thread.java:1326)\r\n",
      "\tat org.apache.hadoop.hdfs.DFSOutputStream$DataStreamer.closeResponder(DFSOutputStream.java:716)\r\n",
      "\tat org.apache.hadoop.hdfs.DFSOutputStream$DataStreamer.endBlock(DFSOutputStream.java:476)\r\n",
      "\tat org.apache.hadoop.hdfs.DFSOutputStream$DataStreamer.run(DFSOutputStream.java:652)\r\n"
     ]
    }
   ],
   "source": [
    "# put file\n",
    "! ../hadoop/bin/hdfs dfs -put ../group_assignment/*.txt /user/project/"
   ]
  },
  {
   "cell_type": "code",
   "execution_count": 5,
   "metadata": {},
   "outputs": [
    {
     "name": "stdout",
     "output_type": "stream",
     "text": [
      "Found 10 items\r\n",
      "-rw-r--r--   2 project supergroup      57713 2018-05-18 15:40 /user/project/SalesLTAddress.txt\r\n",
      "-rw-r--r--   2 project supergroup     198623 2018-05-18 15:40 /user/project/SalesLTCustomer.txt\r\n",
      "-rw-r--r--   2 project supergroup      34732 2018-05-18 15:40 /user/project/SalesLTCustomerAddress.txt\r\n",
      "-rw-r--r--   2 project supergroup     135534 2018-05-18 15:41 /user/project/SalesLTProduct.txt\r\n",
      "-rw-r--r--   2 project supergroup       3184 2018-05-18 15:41 /user/project/SalesLTProductCategory.txt\r\n",
      "-rw-r--r--   2 project supergroup     142910 2018-05-18 15:41 /user/project/SalesLTProductDescription.txt\r\n",
      "-rw-r--r--   2 project supergroup      12616 2018-05-18 15:41 /user/project/SalesLTProductModel.txt\r\n",
      "-rw-r--r--   2 project supergroup      58020 2018-05-18 15:41 /user/project/SalesLTProductModelProductDescription.txt\r\n",
      "-rw-r--r--   2 project supergroup      56223 2018-05-18 15:41 /user/project/SalesLTSalesOrderDetail.txt\r\n",
      "-rw-r--r--   2 project supergroup       8647 2018-05-18 15:41 /user/project/SalesLTSalesOrderHeader.txt\r\n"
     ]
    }
   ],
   "source": [
    "# check files\n",
    "! ../hadoop/bin/hdfs dfs -ls /user/project/"
   ]
  },
  {
   "cell_type": "code",
   "execution_count": 6,
   "metadata": {},
   "outputs": [
    {
     "name": "stdout",
     "output_type": "stream",
     "text": [
      "Configured Capacity: 101489696768 (94.52 GB)\r\n",
      "Present Capacity: 75095494656 (69.94 GB)\r\n",
      "DFS Remaining: 75093872640 (69.94 GB)\r\n",
      "DFS Used: 1622016 (1.55 MB)\r\n",
      "DFS Used%: 0.00%\r\n",
      "Under replicated blocks: 0\r\n",
      "Blocks with corrupt replicas: 0\r\n",
      "Missing blocks: 0\r\n",
      "Missing blocks (with replication factor 1): 0\r\n",
      "\r\n",
      "-------------------------------------------------\r\n",
      "Live datanodes (2):\r\n",
      "\r\n",
      "Name: 192.168.0.152:50010 (slaves2)\r\n",
      "Hostname: slaves2\r\n",
      "Decommission Status : Normal\r\n",
      "Configured Capacity: 50744848384 (47.26 GB)\r\n",
      "DFS Used: 811008 (792 KB)\r\n",
      "Non DFS Used: 8838651904 (8.23 GB)\r\n",
      "DFS Remaining: 39631278080 (36.91 GB)\r\n",
      "DFS Used%: 0.00%\r\n",
      "DFS Remaining%: 78.10%\r\n",
      "Configured Cache Capacity: 0 (0 B)\r\n",
      "Cache Used: 0 (0 B)\r\n",
      "Cache Remaining: 0 (0 B)\r\n",
      "Cache Used%: 100.00%\r\n",
      "Cache Remaining%: 0.00%\r\n",
      "Xceivers: 1\r\n",
      "Last contact: Fri May 18 15:41:05 KST 2018\r\n",
      "\r\n",
      "\r\n",
      "Name: 192.168.0.151:50010 (slaves1)\r\n",
      "Hostname: slaves1\r\n",
      "Decommission Status : Normal\r\n",
      "Configured Capacity: 50744848384 (47.26 GB)\r\n",
      "DFS Used: 811008 (792 KB)\r\n",
      "Non DFS Used: 13007335424 (12.11 GB)\r\n",
      "DFS Remaining: 35462594560 (33.03 GB)\r\n",
      "DFS Used%: 0.00%\r\n",
      "DFS Remaining%: 69.88%\r\n",
      "Configured Cache Capacity: 0 (0 B)\r\n",
      "Cache Used: 0 (0 B)\r\n",
      "Cache Remaining: 0 (0 B)\r\n",
      "Cache Used%: 100.00%\r\n",
      "Cache Remaining%: 0.00%\r\n",
      "Xceivers: 1\r\n",
      "Last contact: Fri May 18 15:41:04 KST 2018\r\n",
      "\r\n",
      "\r\n"
     ]
    }
   ],
   "source": [
    "! ../hadoop/bin/hdfs dfsadmin -report"
   ]
  },
  {
   "cell_type": "code",
   "execution_count": 7,
   "metadata": {},
   "outputs": [
    {
     "name": "stdout",
     "output_type": "stream",
     "text": [
      "DEPRECATED: Use of this script to execute hdfs command is deprecated.\n",
      "Instead use the hdfs command for it.\n",
      "\n",
      "Connecting to namenode via http://master:50070/fsck?ugi=project&files=1&blocks=1&path=%2F\n",
      "FSCK started by project (auth:SIMPLE) from /192.168.0.156 for path / at Fri May 18 15:41:08 KST 2018\n",
      "/ <dir>\n",
      "/user <dir>\n",
      "/user/project <dir>\n",
      "/user/project/SalesLTAddress.txt 57713 bytes, 1 block(s):  OK\n",
      "0. BP-93243781-192.168.0.156-1526621915203:blk_1073741905_1081 len=57713 repl=2\n",
      "\n",
      "/user/project/SalesLTCustomer.txt 198623 bytes, 1 block(s):  OK\n",
      "0. BP-93243781-192.168.0.156-1526621915203:blk_1073741906_1082 len=198623 repl=2\n",
      "\n",
      "/user/project/SalesLTCustomerAddress.txt 34732 bytes, 1 block(s):  OK\n",
      "0. BP-93243781-192.168.0.156-1526621915203:blk_1073741907_1083 len=34732 repl=2\n",
      "\n",
      "/user/project/SalesLTProduct.txt 135534 bytes, 1 block(s):  OK\n",
      "0. BP-93243781-192.168.0.156-1526621915203:blk_1073741908_1084 len=135534 repl=2\n",
      "\n",
      "/user/project/SalesLTProductCategory.txt 3184 bytes, 1 block(s):  OK\n",
      "0. BP-93243781-192.168.0.156-1526621915203:blk_1073741909_1085 len=3184 repl=2\n",
      "\n",
      "/user/project/SalesLTProductDescription.txt 142910 bytes, 1 block(s):  OK\n",
      "0. BP-93243781-192.168.0.156-1526621915203:blk_1073741910_1086 len=142910 repl=2\n",
      "\n",
      "/user/project/SalesLTProductModel.txt 12616 bytes, 1 block(s):  OK\n",
      "0. BP-93243781-192.168.0.156-1526621915203:blk_1073741911_1087 len=12616 repl=2\n",
      "\n",
      "/user/project/SalesLTProductModelProductDescription.txt 58020 bytes, 1 block(s):  OK\n",
      "0. BP-93243781-192.168.0.156-1526621915203:blk_1073741912_1088 len=58020 repl=2\n",
      "\n",
      "/user/project/SalesLTSalesOrderDetail.txt 56223 bytes, 1 block(s):  OK\n",
      "0. BP-93243781-192.168.0.156-1526621915203:blk_1073741913_1089 len=56223 repl=2\n",
      "\n",
      "/user/project/SalesLTSalesOrderHeader.txt 8647 bytes, 1 block(s):  OK\n",
      "0. BP-93243781-192.168.0.156-1526621915203:blk_1073741914_1090 len=8647 repl=2\n",
      "\n",
      "Status: HEALTHY\n",
      " Total size:\t708202 B\n",
      " Total dirs:\t3\n",
      " Total files:\t10\n",
      " Total symlinks:\t\t0\n",
      " Total blocks (validated):\t10 (avg. block size 70820 B)\n",
      " Minimally replicated blocks:\t10 (100.0 %)\n",
      " Over-replicated blocks:\t0 (0.0 %)\n",
      " Under-replicated blocks:\t0 (0.0 %)\n",
      " Mis-replicated blocks:\t\t0 (0.0 %)\n",
      " Default replication factor:\t2\n",
      " Average block replication:\t2.0\n",
      " Corrupt blocks:\t\t0\n",
      " Missing replicas:\t\t0 (0.0 %)\n",
      " Number of data-nodes:\t\t2\n",
      " Number of racks:\t\t1\n",
      "FSCK ended at Fri May 18 15:41:08 KST 2018 in 2 milliseconds\n",
      "\n",
      "\n",
      "The filesystem under path '/' is HEALTHY\n"
     ]
    }
   ],
   "source": [
    "! ../hadoop/bin/hadoop fsck / -files -blocks"
   ]
  },
  {
   "cell_type": "code",
   "execution_count": 8,
   "metadata": {},
   "outputs": [
    {
     "name": "stdout",
     "output_type": "stream",
     "text": [
      "processor\t: 0\r\n",
      "vendor_id\t: GenuineIntel\r\n",
      "cpu family\t: 6\r\n",
      "model\t\t: 94\r\n",
      "model name\t: Intel Core Processor (Skylake)\r\n",
      "stepping\t: 3\r\n",
      "microcode\t: 0x1\r\n",
      "cpu MHz\t\t: 2097.570\r\n",
      "cache size\t: 4096 KB\r\n",
      "physical id\t: 0\r\n",
      "siblings\t: 1\r\n",
      "core id\t\t: 0\r\n",
      "cpu cores\t: 1\r\n",
      "apicid\t\t: 0\r\n",
      "initial apicid\t: 0\r\n",
      "fpu\t\t: yes\r\n",
      "fpu_exception\t: yes\r\n",
      "cpuid level\t: 13\r\n",
      "wp\t\t: yes\r\n",
      "flags\t\t: fpu vme de pse tsc msr pae mce cx8 apic sep mtrr pge mca cmov pat pse36 clflush mmx fxsr sse sse2 ss syscall nx pdpe1gb rdtscp lm constant_tsc rep_good nopl eagerfpu pni pclmulqdq ssse3 fma cx16 pcid sse4_1 sse4_2 x2apic movbe popcnt tsc_deadline_timer aes xsave avx f16c rdrand hypervisor lahf_lm abm 3dnowprefetch invpcid_single rsb_ctxsw retpoline kaiser fsgsbase bmi1 hle avx2 smep bmi2 erms invpcid rtm rdseed adx smap xsaveopt\r\n",
      "bugs\t\t: cpu_meltdown spectre_v1 spectre_v2\r\n",
      "bogomips\t: 4195.14\r\n",
      "clflush size\t: 64\r\n",
      "cache_alignment\t: 64\r\n",
      "address sizes\t: 46 bits physical, 48 bits virtual\r\n",
      "power management:\r\n",
      "\r\n",
      "processor\t: 1\r\n",
      "vendor_id\t: GenuineIntel\r\n",
      "cpu family\t: 6\r\n",
      "model\t\t: 94\r\n",
      "model name\t: Intel Core Processor (Skylake)\r\n",
      "stepping\t: 3\r\n",
      "microcode\t: 0x1\r\n",
      "cpu MHz\t\t: 2097.570\r\n",
      "cache size\t: 4096 KB\r\n",
      "physical id\t: 1\r\n",
      "siblings\t: 1\r\n",
      "core id\t\t: 0\r\n",
      "cpu cores\t: 1\r\n",
      "apicid\t\t: 1\r\n",
      "initial apicid\t: 1\r\n",
      "fpu\t\t: yes\r\n",
      "fpu_exception\t: yes\r\n",
      "cpuid level\t: 13\r\n",
      "wp\t\t: yes\r\n",
      "flags\t\t: fpu vme de pse tsc msr pae mce cx8 apic sep mtrr pge mca cmov pat pse36 clflush mmx fxsr sse sse2 ss syscall nx pdpe1gb rdtscp lm constant_tsc rep_good nopl eagerfpu pni pclmulqdq ssse3 fma cx16 pcid sse4_1 sse4_2 x2apic movbe popcnt tsc_deadline_timer aes xsave avx f16c rdrand hypervisor lahf_lm abm 3dnowprefetch invpcid_single rsb_ctxsw retpoline kaiser fsgsbase bmi1 hle avx2 smep bmi2 erms invpcid rtm rdseed adx smap xsaveopt\r\n",
      "bugs\t\t: cpu_meltdown spectre_v1 spectre_v2\r\n",
      "bogomips\t: 4195.14\r\n",
      "clflush size\t: 64\r\n",
      "cache_alignment\t: 64\r\n",
      "address sizes\t: 46 bits physical, 48 bits virtual\r\n",
      "power management:\r\n",
      "\r\n"
     ]
    }
   ],
   "source": [
    "# cpu \n",
    "! cat /proc/cpuinfo"
   ]
  },
  {
   "cell_type": "code",
   "execution_count": 9,
   "metadata": {},
   "outputs": [
    {
     "name": "stdout",
     "output_type": "stream",
     "text": [
      "              total        used        free      shared  buff/cache   available\r\n",
      "Mem:           3951        2244         865          55         841        1401\r\n",
      "Swap:          1905          16        1889\r\n"
     ]
    }
   ],
   "source": [
    "! free -m"
   ]
  },
  {
   "cell_type": "code",
   "execution_count": 10,
   "metadata": {},
   "outputs": [
    {
     "name": "stdout",
     "output_type": "stream",
     "text": [
      "Filesystem      Size  Used Avail Use% Mounted on\r\n",
      "udev            2.0G     0  2.0G   0% /dev\r\n",
      "tmpfs           396M   36M  360M   9% /run\r\n",
      "/dev/vda2        48G  7.1G   39G  16% /\r\n",
      "tmpfs           2.0G   35M  1.9G   2% /dev/shm\r\n",
      "tmpfs           5.0M     0  5.0M   0% /run/lock\r\n",
      "tmpfs           2.0G     0  2.0G   0% /sys/fs/cgroup\r\n",
      "cgmfs           100K     0  100K   0% /run/cgmanager/fs\r\n",
      "tmpfs           396M   24K  396M   1% /run/user/112\r\n",
      "tmpfs           396M   20K  396M   1% /run/user/1001\r\n"
     ]
    }
   ],
   "source": [
    "! df -h"
   ]
  },
  {
   "cell_type": "code",
   "execution_count": 11,
   "metadata": {},
   "outputs": [],
   "source": [
    "import findspark\n",
    "findspark.init()\n",
    "from pyspark import SparkContext,SparkConf\n",
    "from pyspark.sql import SQLContext\n",
    "import pandas as pd\n",
    "import matplotlib.pyplot as plt\n",
    "%matplotlib inline\n",
    "\n",
    "from pyspark.sql.functions import col, udf\n",
    "from pyspark.sql.types import DoubleType\n",
    "\n",
    "\n",
    "\n",
    "conf = SparkConf().setAppName(\"groupassignment\").setMaster(\"local[*]\")\n",
    "sc = SparkContext.getOrCreate(conf)\n",
    "sqlcontext = SQLContext(sc)\n",
    "orderHeader = sc.textFile(\"file:///home/project/group_assignment/SalesLTSalesOrderHeader.txt\")\n",
    "customer = sc.textFile(\"file:///home/project/group_assignment/SalesLTCustomer.txt\")"
   ]
  },
  {
   "cell_type": "markdown",
   "metadata": {},
   "source": [
    "# rdd way below"
   ]
  },
  {
   "cell_type": "code",
   "execution_count": 12,
   "metadata": {},
   "outputs": [
    {
     "data": {
      "image/png": "[encoded data removed]",
      "text/plain": [
       "<Figure size 1440x720 with 1 Axes>"
      ]
     },
     "metadata": {},
     "output_type": "display_data"
    },
    {
     "name": "stdout",
     "output_type": "stream",
     "text": [
      "CPU times: user 588 ms, sys: 120 ms, total: 708 ms\n",
      "Wall time: 3.38 s\n"
     ]
    }
   ],
   "source": [
    "%%time\n",
    "customer_header = customer.first()\n",
    "customer_rdd = customer.filter(lambda line: line != customer_header)\n",
    "\n",
    "orderHeader_header = orderHeader.first()\n",
    "orderHeader_rdd = orderHeader.filter(lambda line: line != orderHeader_header)\n",
    "customer_rdd1 = customer_rdd.map(lambda line: (line.split(\"\\t\")[0], #CustomerID\n",
    "                                               line.split(\"\\t\")[7]  #CompanyName\n",
    "                                              ))\n",
    "orderHeader_rdd1 = orderHeader_rdd.map(lambda line: (line.split(\"\\t\")[10], #CustomerID\n",
    "                                                     (line.split(\"\\t\")[0], #SalesOrderID\n",
    "                                                      float(line.split(\"\\t\")[-4]) # TotalDue\n",
    "                                                     )))\n",
    "invoice1 = customer_rdd1.join(orderHeader_rdd1)\n",
    "invoice1.takeOrdered(10, lambda x: -x[1][1][1])\n",
    "top10 = invoice1.takeOrdered(10, lambda x: -x[1][1][1])\n",
    "companies = [x[1][0] for x in top10]\n",
    "total_due = [x[1][1][1] for x in top10]\n",
    "top10_dict = {\"companies\": companies, \"total_due\":total_due}\n",
    "top10_pd = pd.DataFrame(top10_dict)\n",
    "\n",
    "top10_pd.plot(figsize = (20, 10),kind = \"bar\", legend  = False, x = \"companies\", y = \"total_due\")\n",
    "plt.xlabel(\"\")\n",
    "plt.ylabel(\"Total Due\", fontsize = 18)\n",
    "plt.title(\"Total Due of the Top 10 Companies by Amount Due\", fontsize  = 24)\n",
    "plt.xticks(size = 20)\n",
    "plt.yticks(size = 20)\n",
    "plt.show()"
   ]
  },
  {
   "cell_type": "markdown",
   "metadata": {},
   "source": [
    "# dataframe way below"
   ]
  },
  {
   "cell_type": "code",
   "execution_count": 13,
   "metadata": {},
   "outputs": [
    {
     "name": "stdout",
     "output_type": "stream",
     "text": [
      "+----------+-----------------------------+------------+----------+\n",
      "|CustomerID|CompanyName                  |SalesOrderID|TotalDue  |\n",
      "+----------+-----------------------------+------------+----------+\n",
      "|29546     |Bulk Discount Store          |71938       |98138.2131|\n",
      "|29847     |Good Toys                    |71774       |972.785   |\n",
      "|29957     |Eastside Department Store    |71783       |92663.5609|\n",
      "|30072     |West Side Mart               |71776       |87.0851   |\n",
      "|29796     |Riding Cycles                |71797       |86222.8072|\n",
      "|29929     |Many Bikes Store             |71902       |81834.9826|\n",
      "|29531     |Remarkable Bike Store        |71935       |7330.8972 |\n",
      "|29932     |Instruments and Parts Company|71898       |70698.9922|\n",
      "|30033     |Transport Bikes              |71856       |665.4251  |\n",
      "|29660     |Extreme Riding Supplies      |71796       |63686.2708|\n",
      "+----------+-----------------------------+------------+----------+\n",
      "only showing top 10 rows\n",
      "\n",
      "root\n",
      " |-- CustomerID: string (nullable = true)\n",
      " |-- NameStyle: string (nullable = true)\n",
      " |-- Title: string (nullable = true)\n",
      " |-- FirstName: string (nullable = true)\n",
      " |-- MiddleName: string (nullable = true)\n",
      " |-- LastName: string (nullable = true)\n",
      " |-- Suffix: string (nullable = true)\n",
      " |-- CompanyName: string (nullable = true)\n",
      " |-- SalesPerson: string (nullable = true)\n",
      " |-- EmailAddress: string (nullable = true)\n",
      " |-- Phone: string (nullable = true)\n",
      " |-- PasswordHash: string (nullable = true)\n",
      " |-- PasswordSalt: string (nullable = true)\n",
      " |-- rowguid: string (nullable = true)\n",
      " |-- ModifiedDate: string (nullable = true)\n",
      " |-- SalesOrderID: string (nullable = true)\n",
      " |-- RevisionNumber: string (nullable = true)\n",
      " |-- OrderDate: string (nullable = true)\n",
      " |-- DueDate: string (nullable = true)\n",
      " |-- ShipDate: string (nullable = true)\n",
      " |-- Status: string (nullable = true)\n",
      " |-- OnlineOrderFlag: string (nullable = true)\n",
      " |-- SalesOrderNumber: string (nullable = true)\n",
      " |-- PurchaseOrderNumber: string (nullable = true)\n",
      " |-- AccountNumber: string (nullable = true)\n",
      " |-- ShipToAddressID: string (nullable = true)\n",
      " |-- BillToAddressID: string (nullable = true)\n",
      " |-- ShipMethod: string (nullable = true)\n",
      " |-- CreditCardApprovalCode: string (nullable = true)\n",
      " |-- SubTotal: string (nullable = true)\n",
      " |-- TaxAmt: string (nullable = true)\n",
      " |-- Freight: string (nullable = true)\n",
      " |-- TotalDue: string (nullable = true)\n",
      " |-- Comment: string (nullable = true)\n",
      " |-- rowguid: string (nullable = true)\n",
      " |-- ModifiedDate: string (nullable = true)\n",
      "\n",
      "+----------+------------------------------+------------+-----------+\n",
      "|CustomerID|CompanyName                   |SalesOrderID|Total_Due  |\n",
      "+----------+------------------------------+------------+-----------+\n",
      "|29736     |Action Bicycle Specialists    |71784       |119960.824 |\n",
      "|30050     |Metropolitan Bicycle Supply   |71936       |108597.9536|\n",
      "|29546     |Bulk Discount Store           |71938       |98138.2131 |\n",
      "|29957     |Eastside Department Store     |71783       |92663.5609 |\n",
      "|29796     |Riding Cycles                 |71797       |86222.8072 |\n",
      "|29929     |Many Bikes Store              |71902       |81834.9826 |\n",
      "|29932     |Instruments and Parts Company |71898       |70698.9922 |\n",
      "|29660     |Extreme Riding Supplies       |71796       |63686.2708 |\n",
      "|29938     |Trailblazing Sports           |71845       |45992.3665 |\n",
      "|29485     |Professional Sales and Service|71782       |43962.7901 |\n",
      "+----------+------------------------------+------------+-----------+\n",
      "only showing top 10 rows\n",
      "\n",
      "CPU times: user 80 ms, sys: 12 ms, total: 92 ms\n",
      "Wall time: 13.7 s\n"
     ]
    }
   ],
   "source": [
    "%%time\n",
    "customer_df = sqlcontext.createDataFrame(customer_rdd.map(lambda line: line.split(\"\\t\")),\n",
    "                                        schema = customer.first().split(\"\\t\"))\n",
    "\n",
    "orderHeader_df = sqlcontext.createDataFrame(orderHeader_rdd.map(lambda line: line.split(\"\\t\")),\n",
    "                                        schema = orderHeader.first().split(\"\\t\"))\n",
    "joined = customer_df.join(orderHeader_df, 'CustomerID', how = \"inner\")\n",
    "joined.select([\"CustomerID\", 'CompanyName','SalesOrderID','TotalDue']).orderBy(\"TotalDue\", ascending = False).show(10, truncate = False)\n",
    "joined.printSchema()\n",
    "convert = udf(lambda x: float(x), DoubleType())\n",
    "joined2 = joined.withColumn('Total_Due',convert(col(\"TotalDue\"))).drop(\"TotalDue\")\n",
    "joined2.dtypes[-1]  # we have created a new column with double type\n",
    "joined2.select([\"CustomerID\", 'CompanyName','SalesOrderID','Total_Due'])\\\n",
    ".orderBy(\"Total_Due\", ascending = False).show(10, truncate = False)"
   ]
  },
  {
   "cell_type": "markdown",
   "metadata": {},
   "source": [
    "# sparksql queries way below"
   ]
  },
  {
   "cell_type": "code",
   "execution_count": 14,
   "metadata": {},
   "outputs": [
    {
     "name": "stdout",
     "output_type": "stream",
     "text": [
      "+----------+------------------------------+------------+-----------+\n",
      "|CustomerID|CompanyName                   |SalesOrderID|TotalDue   |\n",
      "+----------+------------------------------+------------+-----------+\n",
      "|29736     |Action Bicycle Specialists    |71784       |119960.8240|\n",
      "|30050     |Metropolitan Bicycle Supply   |71936       |108597.9536|\n",
      "|29546     |Bulk Discount Store           |71938       |98138.2131 |\n",
      "|29957     |Eastside Department Store     |71783       |92663.5609 |\n",
      "|29796     |Riding Cycles                 |71797       |86222.8072 |\n",
      "|29929     |Many Bikes Store              |71902       |81834.9826 |\n",
      "|29932     |Instruments and Parts Company |71898       |70698.9922 |\n",
      "|29660     |Extreme Riding Supplies       |71796       |63686.2708 |\n",
      "|29938     |Trailblazing Sports           |71845       |45992.3665 |\n",
      "|29485     |Professional Sales and Service|71782       |43962.7901 |\n",
      "+----------+------------------------------+------------+-----------+\n",
      "\n",
      "CPU times: user 16 ms, sys: 4 ms, total: 20 ms\n",
      "Wall time: 1.48 s\n"
     ]
    }
   ],
   "source": [
    "%%time\n",
    "orderHeader_df.createOrReplaceTempView(\"orderHeader_table\")\n",
    "customer_df.createOrReplaceTempView(\"customer_table\")\n",
    "\n",
    "sqlcontext.sql(\"SELECT c.CustomerID, c.CompanyName,oh.SalesOrderID,cast(oh.TotalDue AS DECIMAL(10,4)) \\\n",
    "               FROM customer_table AS c INNER JOIN orderHeader_table AS OH ON c.CustomerID=oh.CustomerID \\\n",
    "               ORDER BY TotalDue DESC LIMIT 10\").show(10, truncate = False)"
   ]
  },
  {
   "cell_type": "code",
   "execution_count": 15,
   "metadata": {},
   "outputs": [
    {
     "data": {
      "text/plain": [
       "'AddressID\\tAddressLine1\\tAddressLine2\\tCity\\tStateProvince\\tCountryRegion\\tPostalCode\\trowguid\\tModifiedDate'"
      ]
     },
     "execution_count": 15,
     "metadata": {},
     "output_type": "execute_result"
    }
   ],
   "source": [
    "address = sc.textFile(\"file:///home/project/group_assignment/SalesLTAddress.txt\")\n",
    "customer_address = sc.textFile(\"file:///home/project/group_assignment/SalesLTCustomerAddress.txt\")\n",
    "customer_address.first()\n",
    "address.first()"
   ]
  },
  {
   "cell_type": "markdown",
   "metadata": {},
   "source": [
    "## rdd way below"
   ]
  },
  {
   "cell_type": "code",
   "execution_count": 16,
   "metadata": {},
   "outputs": [
    {
     "name": "stdout",
     "output_type": "stream",
     "text": [
      "CPU times: user 52 ms, sys: 12 ms, total: 64 ms\n",
      "Wall time: 1.76 s\n"
     ]
    }
   ],
   "source": [
    "%%time\n",
    "address_header = address.first()\n",
    "address_rdd = address.filter(lambda line: line != address_header )\n",
    "customer_address_header = customer_address.first()\n",
    "customer_address_rdd = customer_address.filter(lambda line: line != customer_address_header)\n",
    "customer_address_rdd1 = customer_address_rdd.filter(lambda line: line.split(\"\\t\")[2] ==\"Main Office\").map(lambda line: (line.split(\"\\t\")[0],     #CustomerID\n",
    "                                                               line.split(\"\\t\")[1],    #AddressID\n",
    "                                                               ))  \n",
    "\n",
    "address_rdd1 = address_rdd.map(lambda line: (line.split(\"\\t\")[0], #AddressID\n",
    "                                                               (line.split(\"\\t\")[1],  #AddressLine1\n",
    "                                                                 line.split(\"\\t\")[3], #City\n",
    "                                                                 line.split(\"\\t\")[4],  #StateProvince\n",
    "                                                                  line.split(\"\\t\")[5] #CountryRegion\n",
    "                                                               )))\n",
    "rdd = customer_rdd1.join(orderHeader_rdd1).join(customer_address_rdd1).map(lambda line: (line[1][1], # AddressID\n",
    "                                                                                        (line[1][0][0], # Company\n",
    "                                                                                        line[1][0][1][0],# SalesOrderID\n",
    "                                                                                        line[1][0][1][1]# TotalDue\n",
    "                                                                                        )))\n",
    "final_rdd = rdd.join(address_rdd1)\n",
    "final_rdd2 = final_rdd.map(lambda line: (line[1][0][0],                    # company\n",
    "                                        float(line[1][0][2]),              # TotalDue\n",
    "                                        line[1][1][0],                     # Address 1\n",
    "                                        line[1][1][1],                     # City\n",
    "                                        line[1][1][2],                     # StateProvince\n",
    "                                        line[1][1][3]                      # CountryRegion\n",
    "                                            ))\n",
    "final_rdd2.takeOrdered(10, lambda x: -x[1])"
   ]
  },
  {
   "cell_type": "markdown",
   "metadata": {},
   "source": [
    "## dataframe way below"
   ]
  },
  {
   "cell_type": "code",
   "execution_count": 17,
   "metadata": {},
   "outputs": [
    {
     "name": "stdout",
     "output_type": "stream",
     "text": [
      "+------------------------------+-----------+--------------------------+---------------+-------------+--------------+\n",
      "|CompanyName                   |Total_Due  |AddressLine1              |City           |StateProvince|CountryRegion |\n",
      "+------------------------------+-----------+--------------------------+---------------+-------------+--------------+\n",
      "|Action Bicycle Specialists    |119960.824 |Warrington Ldc Unit 25/2  |Woolston       |England      |United Kingdom|\n",
      "|Metropolitan Bicycle Supply   |108597.9536|Paramount House           |London         |England      |United Kingdom|\n",
      "|Bulk Discount Store           |98138.2131 |93-2501, Blackfriars Road,|London         |England      |United Kingdom|\n",
      "|Eastside Department Store     |92663.5609 |9992 Whipple Rd           |Union City     |California   |United States |\n",
      "|Riding Cycles                 |86222.8072 |Galashiels                |Liverpool      |England      |United Kingdom|\n",
      "|Many Bikes Store              |81834.9826 |Receiving                 |Fullerton      |California   |United States |\n",
      "|Instruments and Parts Company |70698.9922 |Phoenix Way, Cirencester  |Gloucestershire|England      |United Kingdom|\n",
      "|Extreme Riding Supplies       |63686.2708 |Riverside                 |Sherman Oaks   |California   |United States |\n",
      "|Trailblazing Sports           |45992.3665 |251340 E. South St.       |Cerritos       |California   |United States |\n",
      "|Professional Sales and Service|43962.7901 |57251 Serene Blvd         |Van Nuys       |California   |United States |\n",
      "+------------------------------+-----------+--------------------------+---------------+-------------+--------------+\n",
      "only showing top 10 rows\n",
      "\n",
      "CPU times: user 48 ms, sys: 24 ms, total: 72 ms\n",
      "Wall time: 7.86 s\n"
     ]
    }
   ],
   "source": [
    "%%time\n",
    "address_df = sqlcontext.createDataFrame(address_rdd.map(lambda line: line.split(\"\\t\")),\n",
    "                                        schema = address_header.split(\"\\t\") )\n",
    "\n",
    "customer_address_df = sqlcontext.createDataFrame(customer_address_rdd .map(lambda line: line.split(\"\\t\")),\n",
    "                                        schema = customer_address_header.split(\"\\t\") )\n",
    "joined = (customer_df.join(orderHeader_df, 'CustomerID', how = \"inner\")\n",
    "          .join(customer_address_df,'CustomerID', how = \"inner\" )\n",
    "          .join(address_df,'AddressID', how = \"inner\" ))\n",
    "\n",
    "joined2 = joined.withColumn('Total_Due',convert(col(\"TotalDue\"))).drop(\"TotalDue\").filter(joined['AddressType']==\"Main Office\")\n",
    "joined2.select(['CompanyName','Total_Due',\n",
    "                'AddressLine1','City',\n",
    "                'StateProvince','CountryRegion']).orderBy('Total_Due', ascending = False).show(10, truncate = False)\n"
   ]
  },
  {
   "cell_type": "markdown",
   "metadata": {},
   "source": [
    "## sparksql queries way below"
   ]
  },
  {
   "cell_type": "code",
   "execution_count": 18,
   "metadata": {},
   "outputs": [
    {
     "name": "stdout",
     "output_type": "stream",
     "text": [
      "+------------------------------+-----------+--------------------------+---------------+-------------+--------------+\n",
      "|CompanyName                   |TotalDue   |AddressLine1              |City           |StateProvince|CountryRegion |\n",
      "+------------------------------+-----------+--------------------------+---------------+-------------+--------------+\n",
      "|Action Bicycle Specialists    |119960.8240|Warrington Ldc Unit 25/2  |Woolston       |England      |United Kingdom|\n",
      "|Metropolitan Bicycle Supply   |108597.9536|Paramount House           |London         |England      |United Kingdom|\n",
      "|Bulk Discount Store           |98138.2131 |93-2501, Blackfriars Road,|London         |England      |United Kingdom|\n",
      "|Eastside Department Store     |92663.5609 |9992 Whipple Rd           |Union City     |California   |United States |\n",
      "|Riding Cycles                 |86222.8072 |Galashiels                |Liverpool      |England      |United Kingdom|\n",
      "|Many Bikes Store              |81834.9826 |Receiving                 |Fullerton      |California   |United States |\n",
      "|Instruments and Parts Company |70698.9922 |Phoenix Way, Cirencester  |Gloucestershire|England      |United Kingdom|\n",
      "|Extreme Riding Supplies       |63686.2708 |Riverside                 |Sherman Oaks   |California   |United States |\n",
      "|Trailblazing Sports           |45992.3665 |251340 E. South St.       |Cerritos       |California   |United States |\n",
      "|Professional Sales and Service|43962.7901 |57251 Serene Blvd         |Van Nuys       |California   |United States |\n",
      "+------------------------------+-----------+--------------------------+---------------+-------------+--------------+\n",
      "\n",
      "CPU times: user 24 ms, sys: 12 ms, total: 36 ms\n",
      "Wall time: 2.5 s\n"
     ]
    }
   ],
   "source": [
    "%%time\n",
    "address_df.createOrReplaceTempView(\"address_table\")\n",
    "\n",
    "customer_address_df.createOrReplaceTempView(\"customer_address_table\")\n",
    "\n",
    "sqlcontext.sql(\"SELECT c.CompanyName,cast(oh.TotalDue AS DECIMAL(10,4)), a.AddressLine1, \\\n",
    "               a.City, a.StateProvince, a.CountryRegion FROM customer_table AS c \\\n",
    "               INNER JOIN orderHeader_table AS oh ON c.CustomerID = oh.CustomerID \\\n",
    "               INNER JOIN customer_address_table AS ca  ON c.CustomerID = ca.CustomerID AND AddressType = 'Main Office' \\\n",
    "              INNER JOIN address_table AS a ON ca.AddressID = a.AddressID \\\n",
    "              ORDER BY TotalDue DESC LIMIT 10\").show(truncate = False)"
   ]
  },
  {
   "cell_type": "markdown",
   "metadata": {},
   "source": [
    "## rdd way below"
   ]
  },
  {
   "cell_type": "code",
   "execution_count": 19,
   "metadata": {},
   "outputs": [
    {
     "name": "stdout",
     "output_type": "stream",
     "text": [
      "CPU times: user 32 ms, sys: 0 ns, total: 32 ms\n",
      "Wall time: 144 ms\n"
     ]
    }
   ],
   "source": [
    "%%time\n",
    "customer_header = customer.first()\n",
    "customer_rdd = customer.filter(lambda line: line != customer_header)\n",
    "\n",
    "orderHeader_header = orderHeader.first()\n",
    "orderHeader_rdd = orderHeader.filter(lambda line: line != orderHeader_header)\n",
    "customer_rdd1 = customer_rdd.map(lambda line: (line.split(\"\\t\")[0], #CustomerID\n",
    "                                              (line.split(\"\\t\")[3], #FirstName\n",
    "                                               line.split(\"\\t\")[5] #LastName\n",
    "                                              )))\n",
    "\n",
    "orderHeader_rdd1 = orderHeader_rdd.map(lambda line: (line.split(\"\\t\")[10], # CustomerID\n",
    "                                                    (line.split(\"\\t\")[0],  # SalesOrderID\n",
    "                                                     line.split(\"\\t\")[-4]   # TotalDue\n",
    "                                                    )))\n",
    "joined = customer_rdd1.leftOuterJoin(orderHeader_rdd1)\n",
    "NonNulls = joined.filter(lambda line: line[1][1]!=None)\n",
    "Nulls = joined.filter(lambda line: line[1][1]==None)\n",
    "#NonNulls.take(5)\n",
    "NonNulls2 = NonNulls.map(lambda line: (line[0], line[1][0][0],line[1][0][1], line[1][1][0], float(line[1][1][1])))\n",
    "#NonNulls2.first()\n",
    "#Nulls.take(5)\n",
    "Nulls2 = Nulls.map(lambda line: (line[0], line[1][0][0],line[1][0][1], \"NULL\", \"NULL\"))\n",
    "union_rdd = NonNulls2.union(Nulls2)"
   ]
  },
  {
   "cell_type": "markdown",
   "metadata": {},
   "source": [
    "## dataframe way below"
   ]
  },
  {
   "cell_type": "code",
   "execution_count": 20,
   "metadata": {},
   "outputs": [
    {
     "name": "stdout",
     "output_type": "stream",
     "text": [
      "+----------+-----------+--------+----------------+----------+\n",
      "|CustomerID|FirstName  |LastName|SalesOrderNumber|TotalDue  |\n",
      "+----------+-----------+--------+----------------+----------+\n",
      "|29546     |Christopher|Beck    |SO71938         |98138.2131|\n",
      "|29847     |David      |Hodgson |SO71774         |972.785   |\n",
      "|29957     |Kevin      |Liu     |SO71783         |92663.5609|\n",
      "|30072     |Andrea     |Thomsen |SO71776         |87.0851   |\n",
      "|29796     |Jon        |Grande  |SO71797         |86222.8072|\n",
      "|29929     |Jeffrey    |Kurtz   |SO71902         |81834.9826|\n",
      "|29531     |Cory       |Booth   |SO71935         |7330.8972 |\n",
      "|29932     |Rebecca    |Laszlo  |SO71898         |70698.9922|\n",
      "|30033     |Vassar     |Stern   |SO71856         |665.4251  |\n",
      "|29660     |Anthony    |Chor    |SO71796         |63686.2708|\n",
      "+----------+-----------+--------+----------------+----------+\n",
      "only showing top 10 rows\n",
      "\n",
      "+----------+---------+-----------+----------------+--------+\n",
      "|CustomerID|FirstName|LastName   |SalesOrderNumber|TotalDue|\n",
      "+----------+---------+-----------+----------------+--------+\n",
      "|29539     |Josh     |Barnhill   |null            |null    |\n",
      "|29573     |Luis     |Bonifaz    |null            |null    |\n",
      "|29865     |Lucio    |Iallo      |null            |null    |\n",
      "|29978     |Ajay     |Manchepalli|null            |null    |\n",
      "|451       |John     |Emory      |null            |null    |\n",
      "|124       |Yuhong   |Li         |null            |null    |\n",
      "|29580     |Richard  |Bready     |null            |null    |\n",
      "|7         |Dominic  |Gash       |null            |null    |\n",
      "|29525     |Teresa   |Atkinson   |null            |null    |\n",
      "|29733     |Shannon  |Elliott    |null            |null    |\n",
      "+----------+---------+-----------+----------------+--------+\n",
      "only showing top 10 rows\n",
      "\n",
      "CPU times: user 60 ms, sys: 16 ms, total: 76 ms\n",
      "Wall time: 2.89 s\n"
     ]
    }
   ],
   "source": [
    "%%time\n",
    "customer_df = sqlcontext.createDataFrame(customer_rdd.map(lambda line: line.split(\"\\t\")),\n",
    "                                        schema = customer.first().split(\"\\t\"))\n",
    "\n",
    "orderHeader_df = sqlcontext.createDataFrame(orderHeader_rdd.map(lambda line: line.split(\"\\t\")),\n",
    "                                        schema = orderHeader.first().split(\"\\t\"))\n",
    "joined = customer_df.join(orderHeader_df, 'CustomerID', how = \"left\")\n",
    "joined.select([\"CustomerID\", 'FirstName','LastName','SalesOrderNumber','TotalDue'])\\\n",
    ".orderBy(\"TotalDue\", ascending = False).show(10, truncate = False)\n",
    "joined.select([\"CustomerID\", 'FirstName','LastName','SalesOrderNumber','TotalDue'])\\\n",
    ".orderBy(\"TotalDue\", ascending = True).show(10, truncate = False)"
   ]
  },
  {
   "cell_type": "markdown",
   "metadata": {},
   "source": [
    "## sparksql queries way below"
   ]
  },
  {
   "cell_type": "code",
   "execution_count": 21,
   "metadata": {},
   "outputs": [
    {
     "name": "stdout",
     "output_type": "stream",
     "text": [
      "+----------+-----------+------------+------------+-----------+\n",
      "|CustomerID|FirstName  |LastName    |SalesOrderID|TotalDue   |\n",
      "+----------+-----------+------------+------------+-----------+\n",
      "|29736     |Terry      |Eminhizer   |71784       |119960.8240|\n",
      "|30050     |Krishna    |Sunkammurali|71936       |108597.9536|\n",
      "|29546     |Christopher|Beck        |71938       |98138.2131 |\n",
      "|29957     |Kevin      |Liu         |71783       |92663.5609 |\n",
      "|29796     |Jon        |Grande      |71797       |86222.8072 |\n",
      "|29929     |Jeffrey    |Kurtz       |71902       |81834.9826 |\n",
      "|29932     |Rebecca    |Laszlo      |71898       |70698.9922 |\n",
      "|29660     |Anthony    |Chor        |71796       |63686.2708 |\n",
      "|29938     |Frank      |Campbell    |71845       |45992.3665 |\n",
      "|29485     |Catherine  |Abel        |71782       |43962.7901 |\n",
      "+----------+-----------+------------+------------+-----------+\n",
      "\n",
      "+----------+---------+-----------+------------+--------+\n",
      "|CustomerID|FirstName|LastName   |SalesOrderID|TotalDue|\n",
      "+----------+---------+-----------+------------+--------+\n",
      "|7         |Dominic  |Gash       |null        |null    |\n",
      "|29573     |Luis     |Bonifaz    |null        |null    |\n",
      "|29539     |Josh     |Barnhill   |null        |null    |\n",
      "|29978     |Ajay     |Manchepalli|null        |null    |\n",
      "|451       |John     |Emory      |null        |null    |\n",
      "|29865     |Lucio    |Iallo      |null        |null    |\n",
      "|30005     |Nancy    |McPhearson |null        |null    |\n",
      "|124       |Yuhong   |Li         |null        |null    |\n",
      "|29580     |Richard  |Bready     |null        |null    |\n",
      "|29525     |Teresa   |Atkinson   |null        |null    |\n",
      "+----------+---------+-----------+------------+--------+\n",
      "\n",
      "CPU times: user 20 ms, sys: 12 ms, total: 32 ms\n",
      "Wall time: 2.05 s\n"
     ]
    }
   ],
   "source": [
    "%%time\n",
    "orderHeader_df.createOrReplaceTempView(\"orderHeader_table\")\n",
    "customer_df.createOrReplaceTempView(\"customer_table\")\n",
    "\n",
    "sqlcontext.sql(\"SELECT c.CustomerID, c.FirstName,c.LastName, oh.SalesOrderID,cast(oh.TotalDue AS DECIMAL(10,4)) \\\n",
    "               FROM customer_table AS c LEFT JOIN orderHeader_table AS oh ON c.CustomerID = oh.CustomerID \\\n",
    "               ORDER BY TotalDue DESC LIMIT 10\").show(truncate = False)\n",
    "sqlcontext.sql(\"SELECT c.CustomerID, c.FirstName,c.LastName, oh.SalesOrderID,cast(oh.TotalDue AS DECIMAL(10,4)) \\\n",
    "               FROM customer_table AS c LEFT JOIN orderHeader_table AS oh ON c.CustomerID = oh.CustomerID \\\n",
    "               ORDER BY TotalDue ASC LIMIT 10\").show(truncate = False)"
   ]
  },
  {
   "cell_type": "markdown",
   "metadata": {},
   "source": [
    "## rdd way below"
   ]
  },
  {
   "cell_type": "code",
   "execution_count": 24,
   "metadata": {},
   "outputs": [
    {
     "name": "stdout",
     "output_type": "stream",
     "text": [
      "CPU times: user 24 ms, sys: 0 ns, total: 24 ms\n",
      "Wall time: 197 ms\n"
     ]
    }
   ],
   "source": [
    "%%time\n",
    "customer_header = customer.first()\n",
    "customer_rdd = customer.filter(lambda line: line != customer_header)\n",
    "\n",
    "customer_address_header = customer_address.first()\n",
    "customer_address_rdd = customer_address.filter(lambda line: line != customer_address_header)\n",
    "customer_rdd1 = customer_rdd.map(lambda line: (line.split(\"\\t\")[0],  #CustomerID\n",
    "                                              (line.split(\"\\t\")[3],  #FirstName\n",
    "                                              line.split(\"\\t\")[5],  #LastName\n",
    "                                              line.split(\"\\t\")[7],  #CompanyName\n",
    "                                              line.split(\"\\t\")[9],  #EmailAddress\n",
    "                                              line.split(\"\\t\")[10] #Phone\n",
    "                                              )))\n",
    "\n",
    "customer_address_rdd1 = customer_address_rdd.map(lambda line: (line.split(\"\\t\")[0],line.split(\"\\t\")[1]))\n",
    "joined = customer_rdd1.leftOuterJoin(customer_address_rdd1)"
   ]
  },
  {
   "cell_type": "markdown",
   "metadata": {},
   "source": [
    "## dataframe way below\n"
   ]
  },
  {
   "cell_type": "code",
   "execution_count": 25,
   "metadata": {},
   "outputs": [
    {
     "name": "stdout",
     "output_type": "stream",
     "text": [
      "+---------+--------+------------------------+----------------------------+-------------------+\n",
      "|FirstName|LastName|CompanyName             |EmailAddress                |Phone              |\n",
      "+---------+--------+------------------------+----------------------------+-------------------+\n",
      "|John     |Emory   |Roadway Bike Emporium   |john16@adventure-works.com  |691-555-0149       |\n",
      "|Yuhong   |Li      |Nearby Sporting Goods   |yuhong1@adventure-works.com |1 (11) 500 555-0176|\n",
      "|Dominic  |Gash    |Associated Bikes        |dominic0@adventure-works.com|192-555-0173       |\n",
      "|Neva     |Mitchell|Riding Associates       |neva0@adventure-works.com   |992-555-0134       |\n",
      "|John     |Evans   |Real Sporting Goods     |john17@adventure-works.com  |581-555-0172       |\n",
      "|Janice   |Hows    |Area Sheet Metal Supply |janice1@adventure-works.com |1 (11) 500 555-0119|\n",
      "|Jim      |Stewart |Famous Bike Shop        |jim5@adventure-works.com    |226-555-0110       |\n",
      "|Brenda   |Diaz    |Downtown Hotel          |brenda2@adventure-works.com |147-555-0192       |\n",
      "|Frank    |Mart¡nez|Rally Master Company Inc|frank5@adventure-works.com  |171-555-0147       |\n",
      "|Dora     |Verdad  |Retreat Inn             |dora0@adventure-works.com   |155-555-0140       |\n",
      "+---------+--------+------------------------+----------------------------+-------------------+\n",
      "only showing top 10 rows\n",
      "\n",
      "CPU times: user 36 ms, sys: 0 ns, total: 36 ms\n",
      "Wall time: 1.05 s\n"
     ]
    }
   ],
   "source": [
    "%%time\n",
    "customer_df = sqlcontext.createDataFrame(customer_rdd.map(lambda line: line.split(\"\\t\")),\n",
    "                                        schema = customer.first().split(\"\\t\"))\n",
    "\n",
    "customer_address_df = sqlcontext.createDataFrame(customer_address_rdd.map(lambda line: line.split(\"\\t\")),\n",
    "                                        schema = customer_address_header.split(\"\\t\"))\n",
    "joined = customer_df.join(customer_address_df, 'CustomerID','left')\n",
    "joined.filter(col(\"AddressID\").isNull()).\\\n",
    "select(['FirstName','LastName','CompanyName','EmailAddress','Phone'])\\\n",
    ".show(10, truncate = False)"
   ]
  },
  {
   "cell_type": "markdown",
   "metadata": {},
   "source": [
    "## sparksql queries way below"
   ]
  },
  {
   "cell_type": "code",
   "execution_count": 26,
   "metadata": {},
   "outputs": [
    {
     "name": "stdout",
     "output_type": "stream",
     "text": [
      "+---------+--------+------------------------+----------------------------+-------------------+\n",
      "|FirstName|LastName|CompanyName             |EmailAddress                |Phone              |\n",
      "+---------+--------+------------------------+----------------------------+-------------------+\n",
      "|John     |Emory   |Roadway Bike Emporium   |john16@adventure-works.com  |691-555-0149       |\n",
      "|Yuhong   |Li      |Nearby Sporting Goods   |yuhong1@adventure-works.com |1 (11) 500 555-0176|\n",
      "|Dominic  |Gash    |Associated Bikes        |dominic0@adventure-works.com|192-555-0173       |\n",
      "|Neva     |Mitchell|Riding Associates       |neva0@adventure-works.com   |992-555-0134       |\n",
      "|John     |Evans   |Real Sporting Goods     |john17@adventure-works.com  |581-555-0172       |\n",
      "|Janice   |Hows    |Area Sheet Metal Supply |janice1@adventure-works.com |1 (11) 500 555-0119|\n",
      "|Jim      |Stewart |Famous Bike Shop        |jim5@adventure-works.com    |226-555-0110       |\n",
      "|Brenda   |Diaz    |Downtown Hotel          |brenda2@adventure-works.com |147-555-0192       |\n",
      "|Frank    |Mart¡nez|Rally Master Company Inc|frank5@adventure-works.com  |171-555-0147       |\n",
      "|Dora     |Verdad  |Retreat Inn             |dora0@adventure-works.com   |155-555-0140       |\n",
      "+---------+--------+------------------------+----------------------------+-------------------+\n",
      "only showing top 10 rows\n",
      "\n",
      "CPU times: user 0 ns, sys: 4 ms, total: 4 ms\n",
      "Wall time: 432 ms\n"
     ]
    }
   ],
   "source": [
    "%%time\n",
    "customer_address_df.createOrReplaceTempView(\"customer_address_table\")\n",
    "customer_df.createOrReplaceTempView(\"customer_table\")\n",
    "\n",
    "sqlcontext.sql(\"SELECT  c.FirstName,c.LastName, c.CompanyName,c.EmailAddress,c.Phone \\\n",
    "               FROM customer_table AS c LEFT JOIN customer_address_table AS ca ON c.CustomerID = ca.CustomerID \\\n",
    "               WHERE ca.AddressID IS NULL\").show(10, truncate = False)"
   ]
  }
 ],
 "metadata": {
  "kernelspec": {
   "display_name": "Python 2",
   "language": "python",
   "name": "python2"
  },
  "language_info": {
   "codemirror_mode": {
    "name": "ipython",
    "version": 3
   },
   "file_extension": ".py",
   "mimetype": "text/x-python",
   "name": "python",
   "nbconvert_exporter": "python",
   "pygments_lexer": "ipython3",
   "version": "3.5.2"
  }
 },
 "nbformat": 4,
 "nbformat_minor": 2
}
